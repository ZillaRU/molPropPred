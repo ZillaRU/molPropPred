{
 "cells": [
  {
   "cell_type": "markdown",
   "metadata": {
    "collapsed": true
   },
   "source": [
    "# Predict EE (Enantionmeric Excesses) in an end-to-end manner\n",
    "\n",
    "*Zhongying Ru  zilla_ru@zju.edu.cn  Apr.27th*\n",
    "\n",
    "### Input\n",
    "SM1, SM2 (SMILES: Simplified Molecular Input Line Entry System)\n",
    "\n",
    "### Output\n",
    "predicted EE\n",
    "\n",
    "### Loss Fuction\n",
    "Measure the sum of difference from the predicted EE to the true EE of all training pairs (SM1, SM2)\n",
    "\n",
    "### Train/Valid/Test set division\n",
    "randomly divide as 8:1:1 (approximately)\n"
   ]
  },
  {
   "cell_type": "code",
   "execution_count": null,
   "metadata": {},
   "outputs": [],
   "source": [
    "# prepare packages\n",
    "\n",
    "from functools import partial\n",
    "import matplotlib.pyplot as plt\n",
    "import numpy as np\n",
    "import torch\n",
    "import torch.nn as nn\n",
    "import dgl\n",
    "from dgl import model_zoo\n",
    "from dgl.data.chem import BaseAtomFeaturizer\n",
    "from dgl.data.chem import BaseBondFeaturizer\n",
    "from dgl.data.chem import ConcatFeaturizer\n",
    "from dgl.data.chem import one_hot_encoding\n",
    "from dgl.data.chem.utils import atom_degree_one_hot\n",
    "from dgl.data.chem.utils import atom_formal_charge\n",
    "from dgl.data.chem.utils import atom_hybridization_one_hot\n",
    "from dgl.data.chem.utils import atom_num_radical_electrons\n",
    "from dgl.data.chem.utils import atom_total_num_H_one_hot\n",
    "from dgl.data.chem.utils import atom_type_one_hot\n",
    "from dgl.data.chem.utils import mol_to_bigraph\n",
    "from rdkit import Chem\n",
    "from torch.utils.data import DataLoader"
   ]
  },
  {
   "cell_type": "markdown",
   "metadata": {},
   "source": [
    "## Load Train set"
   ]
  },
  {
   "cell_type": "code",
   "execution_count": 1,
   "metadata": {},
   "outputs": [
    {
     "name": "stderr",
     "output_type": "stream",
     "text": [
      "Using backend: pytorch\n"
     ]
    }
   ],
   "source": [
    "# input: SMILES strings of molecules\n",
    "# intermediate output: molecule representation\n",
    "import dgllife.model.gnn.attentivefp as AFP\n",
    "AFP\n"
   ]
  },
  {
   "cell_type": "markdown",
   "metadata": {},
   "source": [
    "## Define an AttentiveFP model"
   ]
  },
  {
   "cell_type": "code",
   "execution_count": null,
   "metadata": {},
   "outputs": [],
   "source": []
  },
  {
   "cell_type": "markdown",
   "metadata": {},
   "source": [
    "## Train and save the model"
   ]
  },
  {
   "cell_type": "code",
   "execution_count": null,
   "metadata": {},
   "outputs": [],
   "source": []
  },
  {
   "cell_type": "markdown",
   "metadata": {},
   "source": [
    "## Visualize the training process"
   ]
  },
  {
   "cell_type": "code",
   "execution_count": null,
   "metadata": {},
   "outputs": [],
   "source": []
  },
  {
   "cell_type": "markdown",
   "metadata": {},
   "source": [
    "## Load Test set"
   ]
  },
  {
   "cell_type": "code",
   "execution_count": null,
   "metadata": {},
   "outputs": [],
   "source": []
  },
  {
   "cell_type": "markdown",
   "metadata": {},
   "source": [
    "## Test and visualize"
   ]
  },
  {
   "cell_type": "code",
   "execution_count": null,
   "metadata": {},
   "outputs": [],
   "source": []
  }
 ],
 "metadata": {
  "kernelspec": {
   "display_name": "Python 3",
   "language": "python",
   "name": "python3"
  },
  "language_info": {
   "codemirror_mode": {
    "name": "ipython",
    "version": 3
   },
   "file_extension": ".py",
   "mimetype": "text/x-python",
   "name": "python",
   "nbconvert_exporter": "python",
   "pygments_lexer": "ipython3",
   "version": "3.6.13"
  }
 },
 "nbformat": 4,
 "nbformat_minor": 1
}