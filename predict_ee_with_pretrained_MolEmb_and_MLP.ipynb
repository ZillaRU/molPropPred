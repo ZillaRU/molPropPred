{
 "cells": [
  {
   "cell_type": "markdown",
   "id": "3e2eb0b9",
   "metadata": {},
   "source": [
    "# Optional pretrained models in dgl-lifesci\n",
    "\n",
    "\n",
    "* ``'GCN_Tox21'``: A GCN-based model for molecular property prediction on Tox21\n",
    "* ``'GAT_Tox21'``: A GAT-based model for molecular property prediction on Tox21\n",
    "* ``'Weave_Tox21'``: A Weave model for molecular property prediction on Tox21\n",
    "* ``'AttentiveFP_Aromaticity'``: **An AttentiveFP model for predicting number of\n",
    "  aromatic atoms on a subset of Pubmed**\n",
    "* ``'DGMG_ChEMBL_canonical'``: A DGMG model trained on ChEMBL with a canonical\n",
    "  atom order\n",
    "* ``'DGMG_ChEMBL_random'``: A DGMG model trained on ChEMBL for molecule generation\n",
    "  with a random atom order\n",
    "* ``'DGMG_ZINC_canonical'``: A DGMG model trained on ZINC for molecule generation\n",
    "  with a canonical atom order\n",
    "* ``'DGMG_ZINC_random'``: A DGMG model pre-trained on ZINC for molecule generation\n",
    "  with a random atom order\n",
    "* ``'JTNN_ZINC'``: A JTNN model pre-trained on ZINC for molecule generation\n",
    "* ``'wln_center_uspto'``: A WLN model pre-trained on USPTO for reaction prediction\n",
    "* ``'wln_rank_uspto'``: A WLN model pre-trained on USPTO for candidate product ranking\n",
    "* ``'gin_supervised_contextpred'``: A GIN model pre-trained with supervised learning\n",
    "  and context prediction\n",
    "* ``'gin_supervised_infomax'``: A GIN model pre-trained with supervised learning\n",
    "  and deep graph infomax\n",
    "* ``'gin_supervised_edgepred'``: A GIN model pre-trained with supervised learning\n",
    "  and edge prediction\n",
    "* ``'gin_supervised_masking'``: A GIN model pre-trained with supervised learning\n",
    "  and attribute masking\n",
    "* ``'GCN_canonical_BACE'``: A GCN model trained on BACE with canonical featurization for atoms\n",
    "* ``'GCN_attentivefp_BACE'``: A GCN model trained on BACE with attentivefp\n",
    "  featurization for atoms\n",
    "* ``'GAT_canonical_BACE'``: A GAT model trained on BACE with canonical\n",
    "  featurization for atoms\n",
    "* ``'GAT_attentivefp_BACE'``: **A GAT model trained on BACE with attentivefp\n",
    "  featurization for atoms**\n",
    "* ``'Weave_canonical_BACE'``: A Weave model trained on BACE with canonical\n",
    "  featurization for atoms and bonds\n",
    "* ``'Weave_attentivefp_BACE'``: A Weave model trained on BACE with attentivefp\n",
    "  featurization for atoms and bonds\n",
    "* ``'MPNN_canonical_BACE'``: An MPNN model trained on BACE with canonical\n",
    "  featurization for atoms and bonds\n",
    "* ``'MPNN_attentivefp_BACE'``: An MPNN model trained on BACE with attentivefp\n",
    "  featurization for atoms and bonds\n",
    "* ``'AttentiveFP_canonical_BACE'``: An AttentiveFP model trained on BACE with\n",
    "  canonical featurization for atoms and bonds\n",
    "* ``'AttentiveFP_attentivefp_BACE'``: **An AttentiveFP model trained on BACE with\n",
    "  attentivefp featurization for atoms and bonds**\n",
    "* ``'gin_supervised_contextpred_BACE'``: A GIN model pre-trained with supervised\n",
    "  learning and context prediction, and fine-tuned on BACE\n",
    "* ``'gin_supervised_infomax_BACE'``: A GIN model pre-trained with supervised learning\n",
    "  and infomax, and fine-tuned on BACE\n",
    "* ``'gin_supervised_edgepred_BACE'``: A GIN model pre-trained with supervised learning\n",
    "  and edge prediction, and fine-tuned on BACE\n",
    "* ``'gin_supervised_masking_BACE'``: A GIN model pre-trained with supervised learning\n",
    "  and masking, and fine-tuned on BACE\n",
    "* ``'NF_canonical_BACE'``: An NF model trained on BACE with canonical\n",
    "  featurization for atoms\n",
    "* ``'GCN_canonical_BBBP'``: A GCN model trained on BBBP with canonical\n",
    "  featurization for atoms\n",
    "* ``'GCN_attentivefp_BBBP'``: A GCN model trained on BBBP with attentivefp\n",
    "  featurization for atoms\n",
    "* ``'GAT_canonical_BBBP'``: A GAT model trained on BBBP with canonical\n",
    "  featurization for atoms\n",
    "* ``'GAT_attentivefp_BBBP'``: A GAT model trained on BBBP with attentivefp\n",
    "  featurization for atoms\n",
    "* ``'Weave_canonical_BBBP'``: A Weave model trained on BBBP with canonical\n",
    "  featurization for atoms and bonds\n",
    "* ``'Weave_attentivefp_BBBP'``: A Weave model trained on BBBP with attentivefp\n",
    "  featurization for atoms and bonds\n",
    "* ``'MPNN_canonical_BBBP'``: An MPNN model trained on BBBP with canonical\n",
    "  featurization for atoms and bonds\n",
    "* ``'MPNN_attentivefp_BBBP'``: An MPNN model trained on BBBP with attentivefp\n",
    "  featurization for atoms and bonds\n",
    "* ``'AttentiveFP_canonical_BBBP'``: **An AttentiveFP model trained on BBBP with\n",
    "  canonical featurization for atoms and bonds**\n",
    "* ``'AttentiveFP_attentivefp_BBBP'``: **An AttentiveFP model trained on BBBP with\n",
    "  attentivefp featurization for atoms and bonds**\n",
    "* ``'gin_supervised_contextpred_BBBP'``: A GIN model pre-trained with supervised\n",
    "  learning and context prediction, and fine-tuned on BBBP\n",
    "* ``'gin_supervised_infomax_BBBP'``: A GIN model pre-trained with supervised learning\n",
    "  and infomax, and fine-tuned on BBBP\n",
    "* ``'gin_supervised_edgepred_BBBP'``: A GIN model pre-trained with supervised learning\n",
    "  and edge prediction, and fine-tuned on BBBP\n",
    "* ``'gin_supervised_masking_BBBP'``: A GIN model pre-trained with supervised learning\n",
    "  and masking, and fine-tuned on BBBP\n",
    "* ``'NF_canonical_BBBP'``: An NF model pre-trained on BBBP with canonical\n",
    "  featurization for atoms\n",
    "* ``'GCN_canonical_ClinTox'``: A GCN model trained on ClinTox with canonical\n",
    "  featurization for atoms\n",
    "* ``'GCN_attentivefp_ClinTox'``: A GCN model trained on ClinTox with attentivefp\n",
    "  featurization for atoms\n",
    "* ``'GAT_canonical_ClinTox'``: A GAT model trained on ClinTox with canonical\n",
    "  featurization for atoms\n",
    "* ``'GAT_attentivefp_ClinTox'``: A GAT model trained on ClinTox with attentivefp\n",
    "  featurization for atoms\n",
    "* ``'Weave_canonical_ClinTox'``: A Weave model trained on ClinTox with canonical\n",
    "  featurization for atoms and bonds\n",
    "* ``'Weave_attentivefp_ClinTox'``: A Weave model trained on ClinTox with attentivefp\n",
    "  featurization for atoms and bonds\n",
    "* ``'MPNN_canonical_ClinTox'``: An MPNN model trained on ClinTox with canonical\n",
    "  featurization for atoms and bonds\n",
    "* ``'MPNN_attentivefp_ClinTox'``: An MPNN model trained on ClinTox with attentivefp\n",
    "  featurization for atoms and bonds\n",
    "* ``'AttentiveFP_canonical_ClinTox'``: An AttentiveFP model trained on ClinTox with\n",
    "  canonical featurization for atoms and bonds\n",
    "* ``'AttentiveFP_attentivefp_BACE'``: An AttentiveFP model trained on ClinTox with\n",
    "  attentivefp featurization for atoms and bonds\n",
    "* ``'GCN_canonical_ESOL'``: A GCN model trained on ESOL with canonical\n",
    "  featurization for atoms\n",
    "* ``'GCN_attentivefp_ESOL'``: A GCN model trained on ESOL with attentivefp\n",
    "  featurization for atoms\n",
    "* ``'GAT_canonical_ESOL'``: A GAT model trained on ESOL with canonical\n",
    "  featurization for atoms\n",
    "* ``'GAT_attentivefp_ESOL'``: A GAT model trained on ESOL with attentivefp\n",
    "  featurization for atoms\n",
    "* ``'Weave_canonical_ESOL'``: A Weave model trained on ESOL with canonical\n",
    "  featurization for atoms and bonds\n",
    "* ``'Weave_attentivefp_ESOL'``: A Weave model trained on ESOL with attentivefp\n",
    "  featurization for atoms and bonds\n",
    "* ``'MPNN_canonical_ESOL'``: An MPNN model trained on ESOL with canonical\n",
    "  featurization for atoms and bonds\n",
    "* ``'MPNN_attentivefp_ESOL'``: An MPNN model trained on ESOL with attentivefp\n",
    "  featurization for atoms and bonds\n",
    "* ``'AttentiveFP_canonical_ESOL'``: An AttentiveFP model trained on ESOL with\n",
    "  canonical featurization for atoms and bonds\n",
    "* ``'AttentiveFP_attentivefp_ESOL'``: An AttentiveFP model trained on ESOL with\n",
    "  attentivefp featurization for atoms and bonds\n",
    "* ``'gin_supervised_contextpred_ESOL'``: A GIN model pre-trained with supervised\n",
    "  learning and context prediction, and fine-tuned on ESOL\n",
    "* ``'gin_supervised_infomax_ESOL'``: A GIN model pre-trained with supervised learning\n",
    "  and infomax, and fine-tuned on ESOL\n",
    "* ``'gin_supervised_edgepred_ESOL'``: A GIN model pre-trained with supervised learning\n",
    "  and edge prediction, and fine-tuned on ESOL\n",
    "* ``'gin_supervised_masking_ESOL'``: A GIN model pre-trained with supervised learning\n",
    "  and masking, and fine-tuned on ESOL\n",
    "* ``'GCN_canonical_FreeSolv'``: A GCN model trained on FreeSolv with canonical\n",
    "  featurization for atoms\n",
    "* ``'GCN_attentivefp_FreeSolv'``: A GCN model trained on FreeSolv with attentivefp\n",
    "  featurization for atoms\n",
    "* ``'GAT_canonical_FreeSolv'``: A GAT model trained on FreeSolv with canonical\n",
    "  featurization for atoms\n",
    "* ``'GAT_attentivefp_FreeSolv'``: A GAT model trained on FreeSolv with attentivefp\n",
    "  featurization for atoms\n",
    "* ``'Weave_canonical_FreeSolv'``: A Weave model trained on FreeSolv with canonical\n",
    "  featurization for atoms and bonds\n",
    "* ``'Weave_attentivefp_FreeSolv'``: A Weave model trained on FreeSolv with attentivefp\n",
    "  featurization for atoms and bonds\n",
    "* ``'MPNN_canonical_FreeSolv'``: An MPNN model trained on FreeSolv with canonical\n",
    "  featurization for atoms and bonds\n",
    "* ``'MPNN_attentivefp_FreeSolv'``: An MPNN model trained on FreeSolv with attentivefp\n",
    "  featurization for atoms and bonds\n",
    "* ``'AttentiveFP_canonical_FreeSolv'``: An AttentiveFP model trained on FreeSolv with\n",
    "  canonical featurization for atoms and bonds\n",
    "* ``'AttentiveFP_attentivefp_FreeSolv'``: An AttentiveFP model trained on FreeSolv with\n",
    "  attentivefp featurization for atoms and bonds\n",
    "* ``'gin_supervised_contextpred_FreeSolv'``: A GIN model pre-trained with supervised\n",
    "  learning and context prediction, and fine-tuned on FreeSolv\n",
    "* ``'gin_supervised_infomax_FreeSolv'``: A GIN model pre-trained with supervised learning\n",
    "  and infomax, and fine-tuned on FreeSolv\n",
    "* ``'gin_supervised_edgepred_FreeSolv'``: A GIN model pre-trained with supervised learning\n",
    "  and edge prediction, and fine-tuned on FreeSolv\n",
    "* ``'gin_supervised_masking_FreeSolv'``: A GIN model pre-trained with supervised learning\n",
    "  and masking, and fine-tuned on FreeSolv\n",
    "* ``'GCN_canonical_HIV'``: A GCN model trained on HIV with canonical\n",
    "  featurization for atoms\n",
    "* **``'GCN_attentivefp_HIV'``: A GCN model trained on HIV with attentivefp\n",
    "  featurization for atoms **\n",
    "* ``'GAT_canonical_HIV'``: A GAT model trained on BACE with canonical featurization for atoms\n",
    "* ``'GAT_attentivefp_HIV'``: A GAT model trained on BACE with attentivefp featurization for atoms\n",
    "* ``'Weave_canonical_HIV'``: A Weave model trained on HIV with canonical featurization for atoms and bonds\n",
    "* ``'Weave_attentivefp_HIV'``: A Weave model trained on HIV with attentivefp featurization for atoms and bonds\n",
    "* ``'MPNN_canonical_HIV'``: An MPNN model trained on HIV with canonical featurization for atoms and bonds\n",
    "* ``'MPNN_attentivefp_HIV'``: An MPNN model trained on HIV with attentivefp featurization for atoms and bonds\n",
    "* ``'AttentiveFP_canonical_HIV'``: An AttentiveFP model trained on HIV with canonical featurization for atoms and bonds\n",
    "* ``'AttentiveFP_attentivefp_HIV'``: An AttentiveFP model trained on HIV with attentivefp featurization for atoms and bonds\n",
    "* ``'gin_supervised_contextpred_HIV'``: A GIN model pre-trained with supervised learning and context prediction, and fine-tuned on HIV\n",
    "* ``'gin_supervised_infomax_HIV'``: A GIN model pre-trained with supervised learning and infomax, and fine-tuned on HIV\n",
    "* ``'gin_supervised_edgepred_HIV'``: A GIN model pre-trained with supervised learning and edge prediction, and fine-tuned on HIV\n",
    "* ``'gin_supervised_masking_HIV'``: A GIN model pre-trained with supervised learning and masking, and fine-tuned on HIV\n",
    "* ``'NF_canonical_HIV'``: An NF model trained on HIV with canonical featurization for atoms\n",
    "* ``'GCN_canonical_Lipophilicity'``: A GCN model trained on Lipophilicity with canonical featurization for atoms\n",
    "* ``'GCN_attentivefp_Lipophilicity'``: A GCN model trained on Lipophilicity with attentivefp featurization for atoms\n",
    "* ``'GAT_canonical_Lipophilicity'``: A GAT model trained on Lipophilicity with canonical featurization for atoms\n",
    "* ``'GAT_attentivefp_Lipophilicity'``: A GAT model trained on Lipophilicity with attentivefp featurization for atoms\n",
    "* ``'Weave_canonical_Lipophilicity'``: A Weave model trained on Lipophilicity with\n",
    "  canonical featurization for atoms and bonds\n",
    "* ``'Weave_attentivefp_Lipophilicity'``: A Weave model trained on Lipophilicity with\n",
    "  attentivefp featurization for atoms and bonds\n",
    "* ``'MPNN_canonical_Lipophilicity'``: An MPNN model trained on Lipophilicity with\n",
    "  canonical featurization for atoms and bonds\n",
    "* ``'MPNN_attentivefp_Lipophilicity'``: An MPNN model trained on Lipophilicity with\n",
    "  attentivefp featurization for atoms and bonds\n",
    "* ``'AttentiveFP_canonical_Lipophilicity'``: An AttentiveFP model trained on\n",
    "  Lipophilicity with canonical featurization for atoms and bonds\n",
    "* ``'AttentiveFP_attentivefp_Lipophilicity'``: An AttentiveFP model trained on\n",
    "  Lipophilicity with attentivefp featurization for atoms and bonds\n",
    "* ``'gin_supervised_contextpred_Lipophilicity'``: A GIN model pre-trained with supervised\n",
    "  learning and context prediction, and fine-tuned on Lipophilicity\n",
    "* ``'gin_supervised_infomax_Lipophilicity'``: A GIN model pre-trained with supervised\n",
    "  learning and infomax, and fine-tuned on Lipophilicity\n",
    "* ``'gin_supervised_edgepred_Lipophilicity'``: A GIN model pre-trained with supervised\n",
    "  learning and edge prediction, and fine-tuned on Lipophilicity\n",
    "* ``'gin_supervised_masking_Lipophilicity'``: A GIN model pre-trained with supervised\n",
    "  learning and masking, and fine-tuned on Lipophilicity\n",
    "* ``'GCN_canonical_MUV'``: A GCN model trained on MUV with canonical\n",
    "  featurization for atoms\n",
    "* ``'GCN_attentivefp_MUV'``: A GCN model trained on MUV with attentivefp\n",
    "  featurization for atoms\n",
    "* ``'GAT_canonical_MUV'``: A GAT model trained on MUV with canonical\n",
    "  featurization for atoms\n",
    "* ``'GAT_attentivefp_MUV'``: A GAT model trained on MUV with attentivefp\n",
    "  featurization for atoms\n",
    "* ``'Weave_canonical_MUV'``: A Weave model trained on MUV with canonical\n",
    "  featurization for atoms and bonds\n",
    "* ``'Weave_attentivefp_MUV'``: A Weave model trained on MUV with attentivefp\n",
    "  featurization for atoms and bonds\n",
    "* ``'MPNN_canonical_MUV'``: An MPNN model trained on MUV with canonical\n",
    "  featurization for atoms and bonds\n",
    "* ``'MPNN_attentivefp_MUV'``: An MPNN model trained on MUV with attentivefp\n",
    "  featurization for atoms and bonds\n",
    "* ``'AttentiveFP_canonical_MUV'``: An AttentiveFP model trained on MUV with canonical\n",
    "  featurization for atoms and bonds\n",
    "* ``'AttentiveFP_attentivefp_MUV'``: An AttentiveFP model trained on MUV with attentivefp\n",
    "  featurization for atoms and bonds\n",
    "* ``'gin_supervised_contextpred_MUV'``: A GIN model pre-trained with supervised learning\n",
    "  and context prediction, and fine-tuned on MUV\n",
    "* ``'gin_supervised_infomax_MUV'``: A GIN model pre-trained with supervised learning\n",
    "  and infomax, and fine-tuned on MUV\n",
    "* ``'gin_supervised_edgepred_MUV'``: A GIN model pre-trained with supervised learning\n",
    "  and edge prediction, and fine-tuned on MUV\n",
    "* ``'gin_supervised_masking_MUV'``: A GIN model pre-trained with supervised learning\n",
    "  and masking, and fine-tuned on MUV\n",
    "* ``'GCN_canonical_PCBA'``: A GCN model trained on PCBA with canonical\n",
    "  featurization for atoms\n",
    "* ``'GCN_attentivefp_PCBA'``: A GCN model trained on PCBA with attentivefp\n",
    "  featurization for atoms\n",
    "* ``'GAT_canonical_PCBA'``: A GAT model trained on PCBA with canonical\n",
    "  featurization for atoms\n",
    "* ``'GAT_attentivefp_PCBA'``: A GAT model trained on PCBA with attentivefp\n",
    "  featurization for atoms\n",
    "* ``'Weave_canonical_PCBA'``: A Weave model trained on PCBA with canonical\n",
    "  featurization for atoms and bonds\n",
    "* ``'Weave_attentivefp_PCBA'``: A Weave model trained on PCBA with attentivefp\n",
    "  featurization for atoms and bonds\n",
    "* ``'MPNN_canonical_PCBA'``: An MPNN model trained on PCBA with canonical\n",
    "  featurization for atoms and bonds\n",
    "* ``'MPNN_attentivefp_PCBA'``: An MPNN model trained on PCBA with attentivefp\n",
    "  featurization for atoms and bonds\n",
    "* ``'AttentiveFP_canonical_PCBA'``: An AttentiveFP model trained on PCBA with\n",
    "  canonical featurization for atoms and bonds\n",
    "* ``'AttentiveFP_attentivefp_PCBA'``: An AttentiveFP model trained on PCBA with\n",
    "  attentivefp featurization for atoms and bonds\n",
    "* ``'GCN_canonical_SIDER'``: A GCN model trained on SIDER with canonical\n",
    "  featurization for atoms\n",
    "* ``'GCN_attentivefp_SIDER'``: **A GCN model trained on SIDER with attentivefp\n",
    "  featurization for atoms**\n",
    "* ``'GAT_canonical_SIDER'``: A GAT model trained on SIDER with canonical\n",
    "  featurization for atoms\n",
    "* ``'GAT_attentivefp_SIDER'``: **A GAT model trained on SIDER with attentivefp\n",
    "  featurization for atoms**\n",
    "* ``'Weave_canonical_SIDER'``: A Weave model trained on SIDER with canonical\n",
    "  featurization for atoms and bonds\n",
    "* ``'Weave_attentivefp_SIDER'``: A Weave model trained on SIDER with attentivefp\n",
    "  featurization for atoms and bonds\n",
    "* ``'MPNN_canonical_SIDER'``: An MPNN model trained on SIDER with canonical\n",
    "  featurization for atoms and bonds\n",
    "* ``'MPNN_attentivefp_SIDER'``: An MPNN model trained on SIDER with attentivefp\n",
    "  featurization for atoms and bonds\n",
    "* ``'AttentiveFP_canonical_SIDER'``: An AttentiveFP model trained on SIDER with\n",
    "  canonical featurization for atoms and bonds\n",
    "* ``'AttentiveFP_attentivefp_SIDER'``: An AttentiveFP model trained on SIDER with\n",
    "  attentivefp featurization for atoms and bonds\n",
    "* ``'gin_supervised_contextpred_SIDER'``: A GIN model pre-trained with supervised learning\n",
    "  and context prediction, and fine-tuned on SIDER\n",
    "* ``'gin_supervised_infomax_SIDER'``: A GIN model pre-trained with supervised learning\n",
    "  and infomax, and fine-tuned on SIDER\n",
    "* ``'gin_supervised_edgepred_SIDER'``: A GIN model pre-trained with supervised learning\n",
    "  and edge prediction, and fine-tuned on SIDER\n",
    "* ``'gin_supervised_masking_SIDER'``: A GIN model pre-trained with supervised learning\n",
    "  and masking, and fine-tuned on SIDER\n",
    "* ``'NF_canonical_SIDER'``: An NF model trained on SIDER with canonical\n",
    "  featurization for atoms\n",
    "* ``'GCN_canonical_Tox21'``: A GCN model trained on Tox21 with canonical\n",
    "  featurization for atoms\n",
    "* ``'GCN_attentivefp_Tox21'``: A GCN model trained on Tox21 with attentivefp\n",
    "  featurization for atoms\n",
    "* ``'GAT_canonical_Tox21'``: A GAT model trained on Tox21 with canonical\n",
    "  featurization for atoms\n",
    "* ``'GAT_attentivefp_Tox21'``: A GAT model trained on Tox21 with attentivefp\n",
    "  featurization for atoms\n",
    "* ``'Weave_canonical_Tox21'``: A Weave model trained on Tox21 with canonical\n",
    "  featurization for atoms and bonds\n",
    "* ``'Weave_attentivefp_Tox21'``: A Weave model trained on Tox21 with attentivefp\n",
    "  featurization for atoms and bonds\n",
    "* ``'MPNN_canonical_Tox21'``: An MPNN model trained on Tox21 with canonical\n",
    "  featurization for atoms and bonds\n",
    "* ``'MPNN_attentivefp_Tox21'``: An MPNN model trained on Tox21 with attentivefp\n",
    "  featurization for atoms and bonds\n",
    "* ``'AttentiveFP_canonical_Tox21'``: An AttentiveFP model trained on Tox21 with\n",
    "  canonical featurization for atoms and bonds\n",
    "* ``'AttentiveFP_attentivefp_Tox21'``: An AttentiveFP model trained on Tox21 with\n",
    "  attentivefp featurization for atoms and bonds\n",
    "* ``'gin_supervised_contextpred_Tox21'``: A GIN model pre-trained with supervised\n",
    "  learning and context prediction, and fine-tuned on Tox21\n",
    "* ``'gin_supervised_infomax_Tox21'``: A GIN model pre-trained with supervised learning\n",
    "  and infomax, and fine-tuned on Tox21\n",
    "* ``'gin_supervised_edgepred_Tox21'``: A GIN model pre-trained with supervised learning\n",
    "  and edge prediction, and fine-tuned on Tox21\n",
    "* ``'gin_supervised_masking_Tox21'``: A GIN model pre-trained with supervised learning\n",
    "  and masking, and fine-tuned on Tox21\n",
    "* ``'NF_canonical_Tox21'``: An NF model trained on Tox21 with canonical\n",
    "  featurization for atoms\n",
    "* ``'GCN_canonical_ToxCast'``: A GCN model trained on ToxCast with canonical\n",
    "  featurization for atoms\n",
    "* ``'GCN_attentivefp_ToxCast'``: A GCN model trained on ToxCast with attentivefp\n",
    "  featurization for atoms\n",
    "* ``'GAT_canonical_ToxCast'``: A GAT model trained on ToxCast with canonical\n",
    "  featurization for atoms\n",
    "* ``'GAT_attentivefp_ToxCast'``: A GAT model trained on ToxCast with attentivefp\n",
    "  featurization for atoms\n",
    "* ``'Weave_canonical_ToxCast'``: A Weave model trained on ToxCast with canonical\n",
    "  featurization for atoms and bonds\n",
    "* ``'Weave_attentivefp_ToxCast'``: A Weave model trained on ToxCast with attentivefp\n",
    "  featurization for atoms and bonds\n",
    "* ``'MPNN_canonical_ToxCast'``: An MPNN model trained on ToxCast with canonical\n",
    "  featurization for atoms and bonds\n",
    "* ``'MPNN_attentivefp_ToxCast'``: An MPNN model trained on ToxCast with attentivefp\n",
    "  featurization for atoms and bonds\n",
    "* ``'AttentiveFP_canonical_ToxCast'``: An AttentiveFP model trained on ToxCast with\n",
    "  canonical featurization for atoms and bonds\n",
    "* ``'AttentiveFP_attentivefp_ToxCast'``: An AttentiveFP model trained on ToxCast with\n",
    "  attentivefp featurization for atoms and bonds\n",
    "* ``'gin_supervised_contextpred_ToxCast'``: A GIN model pre-trained with supervised\n",
    "  learning and context prediction, and fine-tuned on ToxCast\n",
    "* ``'gin_supervised_infomax_ToxCast'``: A GIN model pre-trained with supervised learning\n",
    "  and infomax, and fine-tuned on ToxCast\n",
    "* ``'gin_supervised_edgepred_ToxCast'``: A GIN model pre-trained with supervised learning\n",
    "  and edge prediction, and fine-tuned on ToxCast\n",
    "* ``'gin_supervised_masking_ToxCast'``: A GIN model pre-trained with supervised learning\n",
    "  and masking, and fine-tuned on ToxCast\n",
    "* ``'NF_canonical_ToxCast'``: An NF model trained on ToxCast with canonical\n",
    "  featurization for atoms and bonds"
   ]
  },
  {
   "cell_type": "code",
   "execution_count": 111,
   "id": "1ae1d25f",
   "metadata": {},
   "outputs": [],
   "source": [
    "train_filename = 'data/no_metal_2018.csv'\n",
    "test_filename = 'data/no_metal_19_20.csv'\n",
    "mol_id_dict_filename = 'data/metal_sm_to_id_dict.npy'\n",
    "mol_rep_back_up = 'data/metal_mol_rep'"
   ]
  },
  {
   "cell_type": "markdown",
   "id": "9989c04e",
   "metadata": {},
   "source": [
    "# Load data in format (SM1,  SM2, ee) and generate a SMILES list"
   ]
  },
  {
   "cell_type": "code",
   "execution_count": 115,
   "id": "5c0f921f",
   "metadata": {},
   "outputs": [
    {
     "ename": "ValueError",
     "evalue": "could not convert string to float: ",
     "output_type": "error",
     "traceback": [
      "\u001b[0;31m---------------------------------------------------------------------------\u001b[0m",
      "\u001b[0;31mValueError\u001b[0m                                Traceback (most recent call last)",
      "\u001b[0;32m<ipython-input-115-f778ce8eef7f>\u001b[0m in \u001b[0;36m<module>\u001b[0;34m()\u001b[0m\n\u001b[1;32m     29\u001b[0m \u001b[0;34m\u001b[0m\u001b[0m\n\u001b[1;32m     30\u001b[0m \u001b[0mbuild_mol_dict\u001b[0m\u001b[0;34m(\u001b[0m\u001b[0mtrain_filename\u001b[0m\u001b[0;34m)\u001b[0m\u001b[0;34m\u001b[0m\u001b[0;34m\u001b[0m\u001b[0m\n\u001b[0;32m---> 31\u001b[0;31m \u001b[0mbuild_mol_dict\u001b[0m\u001b[0;34m(\u001b[0m\u001b[0mtest_filename\u001b[0m\u001b[0;34m)\u001b[0m\u001b[0;34m\u001b[0m\u001b[0;34m\u001b[0m\u001b[0m\n\u001b[0m\u001b[1;32m     32\u001b[0m \u001b[0mprint\u001b[0m\u001b[0;34m(\u001b[0m\u001b[0;34mf'sm_cnt = {sm_cnt}'\u001b[0m\u001b[0;34m)\u001b[0m\u001b[0;34m\u001b[0m\u001b[0;34m\u001b[0m\u001b[0m\n\u001b[1;32m     33\u001b[0m \u001b[0;34m\u001b[0m\u001b[0m\n",
      "\u001b[0;32m<ipython-input-115-f778ce8eef7f>\u001b[0m in \u001b[0;36mbuild_mol_dict\u001b[0;34m(fname)\u001b[0m\n\u001b[1;32m     25\u001b[0m                 \u001b[0msm_to_id_dict\u001b[0m\u001b[0;34m[\u001b[0m\u001b[0msm2\u001b[0m\u001b[0;34m]\u001b[0m \u001b[0;34m=\u001b[0m \u001b[0msm_cnt\u001b[0m\u001b[0;34m\u001b[0m\u001b[0;34m\u001b[0m\u001b[0m\n\u001b[1;32m     26\u001b[0m                 \u001b[0msm_cnt\u001b[0m\u001b[0;34m+=\u001b[0m\u001b[0;36m1\u001b[0m\u001b[0;34m\u001b[0m\u001b[0;34m\u001b[0m\u001b[0m\n\u001b[0;32m---> 27\u001b[0;31m             \u001b[0mid_id_ee_list\u001b[0m\u001b[0;34m.\u001b[0m\u001b[0mappend\u001b[0m\u001b[0;34m(\u001b[0m\u001b[0;34m(\u001b[0m\u001b[0mint\u001b[0m\u001b[0;34m(\u001b[0m\u001b[0msm_to_id_dict\u001b[0m\u001b[0;34m[\u001b[0m\u001b[0msm1\u001b[0m\u001b[0;34m]\u001b[0m\u001b[0;34m)\u001b[0m\u001b[0;34m,\u001b[0m \u001b[0mint\u001b[0m\u001b[0;34m(\u001b[0m\u001b[0msm_to_id_dict\u001b[0m\u001b[0;34m[\u001b[0m\u001b[0msm2\u001b[0m\u001b[0;34m]\u001b[0m\u001b[0;34m)\u001b[0m\u001b[0;34m,\u001b[0m \u001b[0mfloat\u001b[0m\u001b[0;34m(\u001b[0m\u001b[0mee\u001b[0m\u001b[0;34m)\u001b[0m\u001b[0;34m)\u001b[0m\u001b[0;34m)\u001b[0m\u001b[0;34m\u001b[0m\u001b[0;34m\u001b[0m\u001b[0m\n\u001b[0m\u001b[1;32m     28\u001b[0m         \u001b[0mnp\u001b[0m\u001b[0;34m.\u001b[0m\u001b[0msave\u001b[0m\u001b[0;34m(\u001b[0m\u001b[0mfname\u001b[0m\u001b[0;34m[\u001b[0m\u001b[0;34m:\u001b[0m\u001b[0;34m-\u001b[0m\u001b[0;36m4\u001b[0m\u001b[0;34m]\u001b[0m\u001b[0;34m+\u001b[0m\u001b[0;34m'_id.npy'\u001b[0m\u001b[0;34m,\u001b[0m \u001b[0mid_id_ee_list\u001b[0m\u001b[0;34m)\u001b[0m\u001b[0;34m\u001b[0m\u001b[0;34m\u001b[0m\u001b[0m\n\u001b[1;32m     29\u001b[0m \u001b[0;34m\u001b[0m\u001b[0m\n",
      "\u001b[0;31mValueError\u001b[0m: could not convert string to float: "
     ]
    }
   ],
   "source": [
    "import csv\n",
    "from pprint import pprint\n",
    "from itertools import islice\n",
    "import numpy as np\n",
    "\n",
    "sm_to_id_dict = dict()\n",
    "sm_cnt = 0\n",
    "\n",
    "def build_mol_dict(fname):\n",
    "    global sm_to_id_dict, sm_cnt\n",
    "    id_id_ee_list = list()\n",
    "    with open(fname, 'r') as f:\n",
    "        reader = csv.reader(f)\n",
    "        '''\n",
    "        smiles_1, smiles_2, ee\n",
    "        '''\n",
    "        \n",
    "        # for row in islice(reader, 1, None):  # if the csv has a header , skip the 1st row\n",
    "        for row in islice(reader, 0, None):\n",
    "            sm1, sm2, ee = row\n",
    "            if sm1 not in sm_to_id_dict:\n",
    "                sm_to_id_dict[sm1] = sm_cnt\n",
    "                sm_cnt+=1\n",
    "            if sm2 not in sm_to_id_dict:\n",
    "                sm_to_id_dict[sm2] = sm_cnt\n",
    "                sm_cnt+=1\n",
    "            id_id_ee_list.append((int(sm_to_id_dict[sm1]), int(sm_to_id_dict[sm2]), float(ee)))\n",
    "        np.save(fname[:-4]+'_id.npy', id_id_ee_list)\n",
    "            \n",
    "build_mol_dict(train_filename)\n",
    "build_mol_dict(test_filename)\n",
    "print(f'sm_cnt = {sm_cnt}')\n",
    "\n",
    "# save `sm_to_id_dict` to file\n",
    "np.save(mol_id_dict_filename, sm_to_id_dict)\n",
    "# dict = np.load(mol_id_dict_filename).item()\n"
   ]
  },
  {
   "cell_type": "markdown",
   "id": "e9502093",
   "metadata": {},
   "source": [
    "# Generate and save molecule representations by pretrained models"
   ]
  },
  {
   "cell_type": "code",
   "execution_count": 116,
   "id": "1153547d",
   "metadata": {},
   "outputs": [],
   "source": [
    "import dgl\n",
    "import errno\n",
    "import numpy as np\n",
    "import os\n",
    "import torch\n",
    "\n",
    "from dgl.nn.pytorch.glob import AvgPooling\n",
    "from dgllife.model import load_pretrained\n",
    "from dgllife.utils import mol_to_bigraph, PretrainAtomFeaturizer, PretrainBondFeaturizer\n",
    "from rdkit import Chem\n",
    "from torch.utils.data import DataLoader\n",
    "\n",
    "args = {\n",
    "    'batch_size':50\n",
    "}\n",
    "\n",
    "if torch.cuda.is_available():\n",
    "    args['device'] = torch.device('cuda:0')\n",
    "else:\n",
    "    args['device'] = torch.device('cpu')\n",
    "\n",
    "\n",
    "def graph_construction_and_featurization(smiles):\n",
    "    \"\"\"Construct graphs from SMILES and featurize them\n",
    "    \n",
    "    Parameters\n",
    "    ----------\n",
    "    smiles : list of str\n",
    "        SMILES of molecules for embedding computation\n",
    "\n",
    "    Returns\n",
    "    -------\n",
    "    list of DGLGraph\n",
    "        List of graphs constructed and featurized\n",
    "    list of bool\n",
    "        Indicators for whether the SMILES string can be\n",
    "        parsed by RDKit\n",
    "    \"\"\"\n",
    "    graphs = []\n",
    "    success = []\n",
    "    for smi in smiles:\n",
    "        try:\n",
    "            mol = Chem.MolFromSmiles(smi)\n",
    "            if mol is None:\n",
    "                success.append(False)\n",
    "                print(\"ERROR in bulid a DGL graph for \", smi)\n",
    "                continue\n",
    "            g = mol_to_bigraph(mol, add_self_loop=True,\n",
    "                               node_featurizer=PretrainAtomFeaturizer(),\n",
    "                               edge_featurizer=PretrainBondFeaturizer(),\n",
    "                               canonical_atom_order=False)\n",
    "            graphs.append(g)\n",
    "            success.append(True)\n",
    "        except:\n",
    "            success.append(False)\n",
    "\n",
    "    return graphs, success\n",
    "\n",
    "def collate(graphs):\n",
    "    return dgl.batch(graphs)\n",
    "\n",
    "def generateMolRep(model_name, smiles_list):\n",
    "    dataset, success = graph_construction_and_featurization(smiles_list)\n",
    "    data_loader = DataLoader(dataset, batch_size=args['batch_size'],\n",
    "                             collate_fn=collate, shuffle=False)\n",
    "    model = load_pretrained(model_name).to(args['device'])\n",
    "    model.eval()\n",
    "    readout = AvgPooling()\n",
    "\n",
    "    mol_emb = []\n",
    "    for batch_id, bg in enumerate(data_loader):\n",
    "        print('Processing batch {:d}/{:d}'.format(batch_id + 1, len(data_loader)))\n",
    "        bg = bg.to(args['device'])\n",
    "        nfeats = [bg.ndata.pop('atomic_number').to(args['device']),\n",
    "                  bg.ndata.pop('chirality_type').to(args['device'])]\n",
    "        efeats = [bg.edata.pop('bond_type').to(args['device']),\n",
    "                  bg.edata.pop('bond_direction_type').to(args['device'])]\n",
    "        with torch.no_grad():\n",
    "            node_repr = model(bg, nfeats, efeats)\n",
    "        mol_emb.append(readout(bg, node_repr))\n",
    "    mol_emb = torch.cat(mol_emb, dim=0).detach().cpu().numpy()\n",
    "    # save molecule representations\n",
    "    np.save(f'{mol_rep_back_up}_{model_name}.npy', mol_emb)\n",
    "#     print(mol_emb)\n",
    "    return mol_emb\n",
    "\n",
    "smiles_list = np.load(mol_id_dict_filename, allow_pickle=True).item().keys()\n",
    "# print(smiles_list)"
   ]
  },
  {
   "cell_type": "markdown",
   "id": "7843c0e5",
   "metadata": {},
   "source": [
    "### gin_supervised_contextpred\n",
    "A GIN model pre-trained with supervised learning and context prediction"
   ]
  },
  {
   "cell_type": "code",
   "execution_count": 123,
   "id": "550fc956",
   "metadata": {},
   "outputs": [
    {
     "name": "stdout",
     "output_type": "stream",
     "text": [
      "Downloading gin_supervised_contextpred_pre_trained.pth from https://data.dgl.ai/dgllife/pre_trained/gin_supervised_contextpred.pth...\n",
      "Pretrained model loaded\n",
      "Processing batch 1/5\n",
      "Processing batch 2/5\n",
      "Processing batch 3/5\n",
      "Processing batch 4/5\n",
      "Processing batch 5/5\n"
     ]
    },
    {
     "data": {
      "text/plain": [
       "array([[ 0.01431398,  0.03064408, -0.19782867, ...,  0.12219054,\n",
       "        -0.03633113, -0.27428925],\n",
       "       [ 0.00288865, -0.14185573,  0.16283943, ..., -0.08547604,\n",
       "        -0.13124995,  0.04602225],\n",
       "       [ 0.02805151,  0.0920255 , -0.10646248, ...,  0.0849689 ,\n",
       "        -0.06105928, -0.1016705 ],\n",
       "       ...,\n",
       "       [ 0.03023865, -0.07626261, -0.07474849, ..., -0.05995055,\n",
       "         0.03032886, -0.07154381],\n",
       "       [ 0.02892783, -0.07193418, -0.06580494, ..., -0.08741256,\n",
       "        -0.02315765,  0.01575435],\n",
       "       [-0.03611493,  0.18060817,  0.02652273, ...,  0.1443495 ,\n",
       "         0.00644542,  0.19467767]], dtype=float32)"
      ]
     },
     "execution_count": 123,
     "metadata": {},
     "output_type": "execute_result"
    }
   ],
   "source": [
    "generateMolRep('gin_supervised_contextpred', smiles_list)"
   ]
  },
  {
   "cell_type": "markdown",
   "id": "7d230602",
   "metadata": {},
   "source": [
    "### gin_supervised_masking"
   ]
  },
  {
   "cell_type": "code",
   "execution_count": 124,
   "id": "c4b88021",
   "metadata": {},
   "outputs": [
    {
     "name": "stdout",
     "output_type": "stream",
     "text": [
      "Downloading gin_supervised_masking_pre_trained.pth from https://data.dgl.ai/dgllife/pre_trained/gin_supervised_masking.pth...\n",
      "Pretrained model loaded\n",
      "Processing batch 1/5\n",
      "Processing batch 2/5\n",
      "Processing batch 3/5\n",
      "Processing batch 4/5\n",
      "Processing batch 5/5\n"
     ]
    },
    {
     "data": {
      "text/plain": [
       "array([[-0.03201346,  0.10542953, -0.36565134, ..., -0.1366    ,\n",
       "        -0.05145049, -0.17185095],\n",
       "       [-0.01057253, -0.12550181, -0.10855965, ...,  0.0166814 ,\n",
       "         0.13297138,  0.20547625],\n",
       "       [-0.0077704 ,  0.09878657, -0.2996267 , ..., -0.13631444,\n",
       "        -0.15121578, -0.24478222],\n",
       "       ...,\n",
       "       [ 0.02752273, -0.04580025, -0.11735227, ..., -0.05983265,\n",
       "         0.00825757, -0.14076276],\n",
       "       [ 0.09721575, -0.00264433, -0.08830455, ..., -0.05596832,\n",
       "        -0.01816662, -0.18695647],\n",
       "       [-0.06779279, -0.00946815, -0.0799297 , ..., -0.06146821,\n",
       "         0.03776815, -0.18608515]], dtype=float32)"
      ]
     },
     "execution_count": 124,
     "metadata": {},
     "output_type": "execute_result"
    }
   ],
   "source": [
    "generateMolRep('gin_supervised_masking', smiles_list)"
   ]
  },
  {
   "cell_type": "markdown",
   "id": "986748d6",
   "metadata": {},
   "source": [
    "### gin_supervised_infomax"
   ]
  },
  {
   "cell_type": "code",
   "execution_count": 125,
   "id": "ef732470",
   "metadata": {},
   "outputs": [
    {
     "name": "stdout",
     "output_type": "stream",
     "text": [
      "Downloading gin_supervised_infomax_pre_trained.pth from https://data.dgl.ai/dgllife/pre_trained/gin_supervised_infomax.pth...\n",
      "Pretrained model loaded\n",
      "Processing batch 1/5\n",
      "Processing batch 2/5\n",
      "Processing batch 3/5\n",
      "Processing batch 4/5\n",
      "Processing batch 5/5\n"
     ]
    },
    {
     "data": {
      "text/plain": [
       "array([[-0.04466508,  0.5069568 , -0.12762727, ...,  0.15770906,\n",
       "         0.29848388, -0.10627863],\n",
       "       [ 0.11324617, -0.0580968 ,  0.03356789, ...,  0.21805207,\n",
       "         0.15129602,  0.06805473],\n",
       "       [-0.08426606,  0.245925  , -0.18110849, ...,  0.28787038,\n",
       "         0.13970733, -0.18061604],\n",
       "       ...,\n",
       "       [-0.01373797,  0.0728666 ,  0.14384419, ...,  0.21395093,\n",
       "        -0.03917876,  0.04861195],\n",
       "       [-0.02689128, -0.14880654,  0.02603548, ...,  0.21953864,\n",
       "        -0.02268929,  0.09304672],\n",
       "       [-0.08695637,  0.12023161, -0.20418108, ...,  0.09345513,\n",
       "         0.22798789,  0.11200549]], dtype=float32)"
      ]
     },
     "execution_count": 125,
     "metadata": {},
     "output_type": "execute_result"
    }
   ],
   "source": [
    "generateMolRep('gin_supervised_infomax', smiles_list)"
   ]
  },
  {
   "cell_type": "markdown",
   "id": "9170a3fa",
   "metadata": {},
   "source": [
    "# EE predictor"
   ]
  },
  {
   "cell_type": "code",
   "execution_count": 127,
   "id": "cc8fcaea",
   "metadata": {},
   "outputs": [
    {
     "name": "stdout",
     "output_type": "stream",
     "text": [
      "(227, 300)\n",
      "(520, 3)\n",
      "(134, 3)\n"
     ]
    }
   ],
   "source": [
    "model_name = 'gin_supervised_infomax'\n",
    "# load molecule representations\n",
    "mol_reps = np.load(mol_rep_back_up+f'_{model_name}.npy')\n",
    "print(mol_reps.shape)\n",
    "\n",
    "# load train file\n",
    "train_list = np.load(train_filename[:-4]+'_id.npy')\n",
    "print(train_list.shape)\n",
    "\n",
    "# load test file\n",
    "test_list = np.load(test_filename[:-4]+'_id.npy')\n",
    "print(test_list.shape)"
   ]
  },
  {
   "cell_type": "code",
   "execution_count": 128,
   "id": "614a962d",
   "metadata": {},
   "outputs": [
    {
     "name": "stdout",
     "output_type": "stream",
     "text": [
      "(520, 601)\n",
      "(416, 600) (416, 1)\n",
      "(104, 600) (104, 1)\n"
     ]
    },
    {
     "name": "stderr",
     "output_type": "stream",
     "text": [
      "/Users/zilla/py/anaconda3/envs/dgl_lifesci/lib/python3.6/site-packages/sklearn/utils/validation.py:63: DataConversionWarning: A column-vector y was passed when a 1d array was expected. Please change the shape of y to (n_samples, ), for example using ravel().\n",
      "  return f(*args, **kwargs)\n"
     ]
    },
    {
     "name": "stdout",
     "output_type": "stream",
     "text": [
      "sklearn MLP score: 0.5260066545802331\n",
      "(416, 600) (416, 1)\n",
      "(104, 600) (104, 1)\n"
     ]
    },
    {
     "name": "stderr",
     "output_type": "stream",
     "text": [
      "/Users/zilla/py/anaconda3/envs/dgl_lifesci/lib/python3.6/site-packages/sklearn/utils/validation.py:63: DataConversionWarning: A column-vector y was passed when a 1d array was expected. Please change the shape of y to (n_samples, ), for example using ravel().\n",
      "  return f(*args, **kwargs)\n"
     ]
    },
    {
     "name": "stdout",
     "output_type": "stream",
     "text": [
      "sklearn MLP score: 0.5161605386356007\n",
      "(416, 600) (416, 1)\n",
      "(104, 600) (104, 1)\n"
     ]
    },
    {
     "name": "stderr",
     "output_type": "stream",
     "text": [
      "/Users/zilla/py/anaconda3/envs/dgl_lifesci/lib/python3.6/site-packages/sklearn/utils/validation.py:63: DataConversionWarning: A column-vector y was passed when a 1d array was expected. Please change the shape of y to (n_samples, ), for example using ravel().\n",
      "  return f(*args, **kwargs)\n"
     ]
    },
    {
     "name": "stdout",
     "output_type": "stream",
     "text": [
      "sklearn MLP score: 0.5372375933001794\n",
      "(416, 600) (416, 1)\n",
      "(104, 600) (104, 1)\n"
     ]
    },
    {
     "name": "stderr",
     "output_type": "stream",
     "text": [
      "/Users/zilla/py/anaconda3/envs/dgl_lifesci/lib/python3.6/site-packages/sklearn/utils/validation.py:63: DataConversionWarning: A column-vector y was passed when a 1d array was expected. Please change the shape of y to (n_samples, ), for example using ravel().\n",
      "  return f(*args, **kwargs)\n"
     ]
    },
    {
     "name": "stdout",
     "output_type": "stream",
     "text": [
      "sklearn MLP score: 0.5133218718066231\n",
      "(416, 600) (416, 1)\n",
      "(104, 600) (104, 1)\n"
     ]
    },
    {
     "name": "stderr",
     "output_type": "stream",
     "text": [
      "/Users/zilla/py/anaconda3/envs/dgl_lifesci/lib/python3.6/site-packages/sklearn/utils/validation.py:63: DataConversionWarning: A column-vector y was passed when a 1d array was expected. Please change the shape of y to (n_samples, ), for example using ravel().\n",
      "  return f(*args, **kwargs)\n"
     ]
    },
    {
     "name": "stdout",
     "output_type": "stream",
     "text": [
      "sklearn MLP score: 0.5129382198478617\n",
      "(416, 600) (416, 1)\n",
      "(104, 600) (104, 1)\n"
     ]
    },
    {
     "name": "stderr",
     "output_type": "stream",
     "text": [
      "/Users/zilla/py/anaconda3/envs/dgl_lifesci/lib/python3.6/site-packages/sklearn/utils/validation.py:63: DataConversionWarning: A column-vector y was passed when a 1d array was expected. Please change the shape of y to (n_samples, ), for example using ravel().\n",
      "  return f(*args, **kwargs)\n"
     ]
    },
    {
     "name": "stdout",
     "output_type": "stream",
     "text": [
      "sklearn MLP score: 0.5046360475702307\n",
      "(416, 600) (416, 1)\n",
      "(104, 600) (104, 1)\n"
     ]
    },
    {
     "name": "stderr",
     "output_type": "stream",
     "text": [
      "/Users/zilla/py/anaconda3/envs/dgl_lifesci/lib/python3.6/site-packages/sklearn/utils/validation.py:63: DataConversionWarning: A column-vector y was passed when a 1d array was expected. Please change the shape of y to (n_samples, ), for example using ravel().\n",
      "  return f(*args, **kwargs)\n"
     ]
    },
    {
     "name": "stdout",
     "output_type": "stream",
     "text": [
      "sklearn MLP score: 0.5265136730482887\n",
      "(416, 600) (416, 1)\n",
      "(104, 600) (104, 1)\n"
     ]
    },
    {
     "name": "stderr",
     "output_type": "stream",
     "text": [
      "/Users/zilla/py/anaconda3/envs/dgl_lifesci/lib/python3.6/site-packages/sklearn/utils/validation.py:63: DataConversionWarning: A column-vector y was passed when a 1d array was expected. Please change the shape of y to (n_samples, ), for example using ravel().\n",
      "  return f(*args, **kwargs)\n"
     ]
    },
    {
     "name": "stdout",
     "output_type": "stream",
     "text": [
      "sklearn MLP score: 0.5245073539301583\n",
      "(416, 600) (416, 1)\n",
      "(104, 600) (104, 1)\n"
     ]
    },
    {
     "name": "stderr",
     "output_type": "stream",
     "text": [
      "/Users/zilla/py/anaconda3/envs/dgl_lifesci/lib/python3.6/site-packages/sklearn/utils/validation.py:63: DataConversionWarning: A column-vector y was passed when a 1d array was expected. Please change the shape of y to (n_samples, ), for example using ravel().\n",
      "  return f(*args, **kwargs)\n"
     ]
    },
    {
     "name": "stdout",
     "output_type": "stream",
     "text": [
      "sklearn MLP score: 0.5571619376552501\n",
      "(416, 600) (416, 1)\n",
      "(104, 600) (104, 1)\n"
     ]
    },
    {
     "name": "stderr",
     "output_type": "stream",
     "text": [
      "/Users/zilla/py/anaconda3/envs/dgl_lifesci/lib/python3.6/site-packages/sklearn/utils/validation.py:63: DataConversionWarning: A column-vector y was passed when a 1d array was expected. Please change the shape of y to (n_samples, ), for example using ravel().\n",
      "  return f(*args, **kwargs)\n"
     ]
    },
    {
     "name": "stdout",
     "output_type": "stream",
     "text": [
      "sklearn MLP score: 0.502197193954925\n",
      "MAE [13.68341457551111, 14.92703385669819, 14.100141633532406, 11.353982398424764, 14.745526666614126, 13.184441104776182, 13.527391976434204, 13.084717220464702, 14.090910702028824, 12.631354447134074]\n",
      "avg MAE 13.53289145816186\n",
      "max MAE 14.92703385669819\n",
      "min MAE 11.353982398424764\n",
      "mlp_score [0.5260066545802331, 0.5161605386356007, 0.5372375933001794, 0.5133218718066231, 0.5129382198478617, 0.5046360475702307, 0.5265136730482887, 0.5245073539301583, 0.5571619376552501, 0.502197193954925]\n"
     ]
    },
    {
     "data": {
      "image/png": "[encoded data removed]",
      "text/plain": [
       "<Figure size 720x720 with 1 Axes>"
      ]
     },
     "metadata": {
      "needs_background": "light"
     },
     "output_type": "display_data"
    },
    {
     "name": "stdout",
     "output_type": "stream",
     "text": [
      "avg mlp_score 0.522068108432935\n"
     ]
    }
   ],
   "source": [
    "# MLP\n",
    "import csv\n",
    "from itertools import islice\n",
    "import random\n",
    "import matplotlib.pyplot as plt\n",
    "import numpy as np\n",
    "from sklearn.neural_network import MLPRegressor\n",
    "from sklearn.preprocessing import MinMaxScaler\n",
    "from sklearn.model_selection import KFold, train_test_split\n",
    "import pandas as pd\n",
    "\n",
    "# todo： other manners to combine the two molecule representations\n",
    "def pair2rep(id1, id2):\n",
    "    return np.concatenate((mol_reps[id1], mol_reps[id2]),axis=0).tolist()\n",
    "\n",
    "INPUT_SIZE = mol_reps.shape[1]*2\n",
    "\n",
    "data =  list()\n",
    "for i1,i2,ee in train_list:\n",
    "    temp = pair2rep(int(i1),int(i2))\n",
    "    temp.append(ee)\n",
    "    data.append(temp)\n",
    "random.shuffle(data)\n",
    "\n",
    "data = np.array(data)\n",
    "print(data.shape)\n",
    "data_x_df = pd.DataFrame(data[:, 0:INPUT_SIZE])\n",
    "data_y_df = pd.DataFrame(data[:, INPUT_SIZE])\n",
    "\n",
    "# 归一化\n",
    "min_max_scaler = MinMaxScaler()\n",
    "min_max_scaler.fit(data_y_df)\n",
    "y_trans1 = min_max_scaler.transform(data_y_df)\n",
    "\n",
    "'''\n",
    "train the MLP predictor\n",
    "'''\n",
    "from sklearn import metrics\n",
    "\n",
    "n_split = 10\n",
    "mlp_scores = []\n",
    "MAEs = []\n",
    "plt.figure(figsize=(10, 10))\n",
    "plt.xlabel('ground truth')\n",
    "plt.ylabel('predicted')\n",
    "plt.plot([0, 100], [0, 100], 'k--')\n",
    "\n",
    "for i in range(10):\n",
    "    X_train, X_test, y_train, y_test = train_test_split(data_x_df, y_trans1, test_size=0.2)\n",
    "\n",
    "    print(X_train.shape, y_train.shape)\n",
    "    print(X_test.shape, y_test.shape)\n",
    "\n",
    "    model_mlp = MLPRegressor(\n",
    "        hidden_layer_sizes=(400, 200, 100, 50), activation='relu', solver='lbfgs', alpha=0.0001,\n",
    "        max_iter=5000,\n",
    "        random_state=1, tol=0.0001, verbose=False, warm_start=False\n",
    "    )\n",
    "    \n",
    "    model_mlp.fit(X_train, y_train)\n",
    "    \n",
    "    mlp_score = model_mlp.score(X_train, y_train)\n",
    "    print('sklearn MLP score:', mlp_score)\n",
    "    mlp_scores.append(mlp_score)\n",
    "\n",
    "    result = model_mlp.predict(X_test)\n",
    "    y_test = min_max_scaler.inverse_transform(y_test)\n",
    "    result = result.reshape(-1, 1)\n",
    "    result = min_max_scaler.inverse_transform(result)\n",
    "\n",
    "    mae = metrics.mean_absolute_error(y_test, result)\n",
    "    MAEs.append(mae)\n",
    "    plt.plot(y_test, result, 'ro')\n",
    "\n",
    "\n",
    "print('MAE', MAEs)\n",
    "print('avg MAE', sum(MAEs) / len(MAEs))\n",
    "print('max MAE', max(MAEs))\n",
    "print('min MAE', min(MAEs))\n",
    "errstr = 'MAE = %.3f' % (sum(MAEs) / len(MAEs))\n",
    "plt.text(0, 1, errstr, fontsize=16)\n",
    "print('mlp_score', mlp_scores)\n",
    "plt.show()\n",
    "print('avg mlp_score', sum(mlp_scores) / len(mlp_scores))"
   ]
  },
  {
   "cell_type": "code",
   "execution_count": null,
   "id": "29d3e06a",
   "metadata": {},
   "outputs": [],
   "source": []
  },
  {
   "cell_type": "code",
   "execution_count": null,
   "id": "0609d80b",
   "metadata": {},
   "outputs": [],
   "source": []
  }
 ],
 "metadata": {
  "kernelspec": {
   "display_name": "Python 3",
   "language": "python",
   "name": "python3"
  },
  "language_info": {
   "codemirror_mode": {
    "name": "ipython",
    "version": 3
   },
   "file_extension": ".py",
   "mimetype": "text/x-python",
   "name": "python",
   "nbconvert_exporter": "python",
   "pygments_lexer": "ipython3",
   "version": "3.6.13"
  }
 },
 "nbformat": 4,
 "nbformat_minor": 5
}
